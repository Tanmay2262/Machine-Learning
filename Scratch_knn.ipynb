{
  "nbformat": 4,
  "nbformat_minor": 0,
  "metadata": {
    "colab": {
      "name": "Task-2 (Scratch-knn).ipynb",
      "provenance": [],
      "collapsed_sections": []
    },
    "kernelspec": {
      "name": "python3",
      "display_name": "Python 3"
    },
    "language_info": {
      "name": "python"
    }
  },
  "cells": [
    {
      "cell_type": "markdown",
      "metadata": {
        "id": "2gu28P1ZI7aU"
      },
      "source": [
        "# Importing Libraries"
      ]
    },
    {
      "cell_type": "code",
      "metadata": {
        "id": "p2K0srmoIYR9"
      },
      "source": [
        "import numpy as np\n",
        "import matplotlib.pyplot as plt\n",
        "import pandas as pd\n",
        "import operator\n",
        "from collections import Counter"
      ],
      "execution_count": null,
      "outputs": []
    },
    {
      "cell_type": "markdown",
      "metadata": {
        "id": "4jLRBoLm5hEF"
      },
      "source": [
        "# Defining class for knn"
      ]
    },
    {
      "cell_type": "markdown",
      "metadata": {
        "id": "E9tOKoLL9TLT"
      },
      "source": [
        "- **argsort() function is used to perform an indirect sort along the given axis using the algorithm specified by the kind keyword. It returns an array of indices of the same shape as arr that that would sort the array.**\n",
        "-**The word 'self' is used to represent the instance of a class. By using the \"self\" keyword we access the attributes and methods of the class in python.**\n",
        "- **\"__init__\" is a reseved method in python classes. It is called as a constructor in object oriented terminology. This method is called when an object is created from a class and it allows the class to initialize the attributes of the class.**"
      ]
    },
    {
      "cell_type": "code",
      "metadata": {
        "id": "LYu9XZWK0BKz"
      },
      "source": [
        "class K_Nearest_Neigbors():\n",
        "  def __init__(self,k):\n",
        "    self.k=k\n",
        "\n",
        "  def fit(self,x_train,y_train):\n",
        "    self.x_train=x_train\n",
        "    self.y_train=y_train\n",
        "    self.m, self.n=x_train.shape\n",
        "\n",
        "  def predict(self,x_test):\n",
        "   self.x_test=x_test\n",
        "   self.m_test, self.n=x_test.shape\n",
        "   y_predict=np.zeros(self.m_test)\n",
        "   for i in range(self.m_test):\n",
        "     x=self.x_test[i]\n",
        "     neigh=np.zeros(self.k)\n",
        "     neigh=self.find_neighbors(x)\n",
        "     y_predict[i]=np.mean(neigh) \n",
        "   return y_predict\n",
        "\n",
        "  def find_neighbors(self,x):\n",
        "    euclidean_distance=np.zeros(self.m)\n",
        "    for i in range(self.m):\n",
        "      d=self.euclidean(x,self.x_train[i])\n",
        "      euclidean_distance[i]=d\n",
        "    inds=euclidean_distance.argsort()\n",
        "    y_train_sorted=self.y_train[inds]\n",
        "    return y_train_sorted[:self.k]\n",
        "\n",
        "  def euclidean(self,x,x_train):\n",
        "    return np.sqrt(np.sum(np.square(x-x_train)))"
      ],
      "execution_count": null,
      "outputs": []
    },
    {
      "cell_type": "markdown",
      "metadata": {
        "id": "_0Z1Po4S6p4n"
      },
      "source": [
        "# Using the made knn regressor to predict"
      ]
    },
    {
      "cell_type": "code",
      "metadata": {
        "id": "epXi98Zk6uAU",
        "colab": {
          "base_uri": "https://localhost:8080/",
          "height": 1000
        },
        "outputId": "d1a5a7c1-707d-4870-f8a6-215190ae1924"
      },
      "source": [
        "def main():\n",
        "  dataset=pd.read_csv('/content/drive/MyDrive/ML Tasks/ML learning/Social_Network_Ads.csv')\n",
        "  x=dataset.iloc[:, 2:4].values\n",
        "  y=dataset.iloc[:, -1].values\n",
        "\n",
        "  from sklearn.model_selection import train_test_split\n",
        "  x_train,x_test,y_train,y_test=train_test_split(x,y,test_size=0.3,random_state=0)\n",
        "\n",
        "  knn=K_Nearest_Neigbors(k=37)\n",
        "  knn.fit(x_train,y_train)\n",
        "  y_pred=knn.predict(x_test)\n",
        "\n",
        "  from sklearn.neighbors import KNeighborsClassifier\n",
        "  knn1=KNeighborsClassifier(n_neighbors=37)\n",
        "  knn1.fit(x_train,y_train)\n",
        "  y_pred1=knn1.predict(x_test)\n",
        "\n",
        "  z=np.round(y_pred)\n",
        "  print(\"----> Predicted values by our model:  \")\n",
        "  print(z) \n",
        "  print('')\n",
        "\n",
        "  z1=np.round(y_pred1)\n",
        "  print(\"----> Predicted values by sklearn model : \")\n",
        "  print(z1)\n",
        "  print('')\n",
        "\n",
        "  from sklearn.metrics import accuracy_score,confusion_matrix\n",
        "  cm=confusion_matrix(y_test,z)\n",
        "  print('----> Confusion Matrix for the prediction which we made')\n",
        "  print(cm)\n",
        "  print('')\n",
        "\n",
        "  cm1=confusion_matrix(y_test,z1)\n",
        "  print('----> Confusion Matrix for the prediction made by sklearn')\n",
        "  print(cm1)\n",
        "  print('')\n",
        "\n",
        "  import seaborn as sn\n",
        "  print('----> Heat map for our Prediction:-')\n",
        "  confusion_matrix=pd.crosstab(y_test,z,rownames=['Actual'],colnames=['Predicted'])\n",
        "  print(confusion_matrix)\n",
        "  sn.heatmap(confusion_matrix,annot=True)\n",
        "  plt.show()\n",
        "  print('')\n",
        "\n",
        "  print('----> Heat map for prediction made by sklearn:-')\n",
        "  confusion_matrix=pd.crosstab(y_test,z1,rownames=['Actual'],colnames=['Predicted'])\n",
        "  print(confusion_matrix)\n",
        "  sn.heatmap(confusion_matrix,annot=True)\n",
        "  plt.show()\n",
        "  print('')\n",
        "\n",
        "  print('----> Classification Report for our Prediction:-')\n",
        "  print('')\n",
        "  from sklearn.metrics import classification_report\n",
        "  print(classification_report(y_test,z))\n",
        "  print('')\n",
        "\n",
        "  print('----> Classification Report for prediction made by sklearn:-')\n",
        "  print('')\n",
        "  from sklearn.metrics import classification_report\n",
        "  print(classification_report(y_test,z1))\n",
        "  print('')\n",
        "\n",
        "if __name__==\"__main__\":\n",
        " main()"
      ],
      "execution_count": null,
      "outputs": [
        {
          "output_type": "stream",
          "text": [
            "----> Predicted values by our model:  \n",
            "[0. 0. 0. 0. 0. 0. 0. 1. 0. 0. 0. 0. 0. 0. 0. 1. 0. 0. 1. 0. 0. 1. 0. 1.\n",
            " 0. 1. 0. 0. 0. 0. 0. 0. 0. 0. 0. 0. 0. 0. 0. 0. 0. 0. 0. 0. 1. 0. 0. 0.\n",
            " 0. 0. 1. 0. 0. 1. 0. 1. 0. 0. 1. 0. 0. 0. 0. 1. 0. 0. 0. 0. 0. 0. 1. 0.\n",
            " 0. 0. 0. 0. 0. 0. 0. 1. 1. 0. 0. 0. 0. 0. 0. 1. 0. 0. 0. 1. 0. 0. 0. 1.\n",
            " 0. 1. 0. 1. 0. 1. 0. 1. 0. 1. 0. 0. 0. 0. 0. 0. 0. 0. 1. 0. 1. 0. 0. 0.]\n",
            "\n",
            "----> Predicted values by sklearn model : \n",
            "[0 0 0 0 0 0 0 1 0 0 0 0 0 0 0 1 0 0 1 0 0 1 0 1 0 1 0 0 0 0 0 0 0 0 0 0 0\n",
            " 0 0 0 0 0 0 0 1 0 0 0 0 0 1 0 0 1 0 1 0 0 1 0 0 0 0 1 0 0 0 0 0 0 1 0 0 0\n",
            " 0 0 0 0 0 1 1 0 0 0 0 0 0 1 0 0 0 1 0 0 0 1 0 1 0 1 0 1 0 1 0 1 0 0 0 0 0\n",
            " 0 0 0 1 0 1 0 0 0]\n",
            "\n",
            "----> Confusion Matrix for the prediction which we made\n",
            "[[77  2]\n",
            " [18 23]]\n",
            "\n",
            "----> Confusion Matrix for the prediction made by sklearn\n",
            "[[77  2]\n",
            " [18 23]]\n",
            "\n",
            "----> Heat map for our Prediction:-\n",
            "Predicted  0.0  1.0\n",
            "Actual             \n",
            "0           77    2\n",
            "1           18   23\n"
          ],
          "name": "stdout"
        },
        {
          "output_type": "display_data",
          "data": {
            "image/png": "[encoded data removed]",
            "text/plain": [
              "<Figure size 432x288 with 2 Axes>"
            ]
          },
          "metadata": {
            "tags": [],
            "needs_background": "light"
          }
        },
        {
          "output_type": "stream",
          "text": [
            "\n",
            "----> Heat map for prediction made by sklearn:-\n",
            "Predicted   0   1\n",
            "Actual           \n",
            "0          77   2\n",
            "1          18  23\n"
          ],
          "name": "stdout"
        },
        {
          "output_type": "display_data",
          "data": {
            "image/png": "[encoded data removed]",
            "text/plain": [
              "<Figure size 432x288 with 2 Axes>"
            ]
          },
          "metadata": {
            "tags": [],
            "needs_background": "light"
          }
        },
        {
          "output_type": "stream",
          "text": [
            "\n",
            "----> Classification Report for our Prediction:-\n",
            "\n",
            "              precision    recall  f1-score   support\n",
            "\n",
            "           0       0.81      0.97      0.89        79\n",
            "           1       0.92      0.56      0.70        41\n",
            "\n",
            "    accuracy                           0.83       120\n",
            "   macro avg       0.87      0.77      0.79       120\n",
            "weighted avg       0.85      0.83      0.82       120\n",
            "\n",
            "\n",
            "----> Classification Report for prediction made by sklearn:-\n",
            "\n",
            "              precision    recall  f1-score   support\n",
            "\n",
            "           0       0.81      0.97      0.89        79\n",
            "           1       0.92      0.56      0.70        41\n",
            "\n",
            "    accuracy                           0.83       120\n",
            "   macro avg       0.87      0.77      0.79       120\n",
            "weighted avg       0.85      0.83      0.82       120\n",
            "\n",
            "\n"
          ],
          "name": "stdout"
        }
      ]
    }
  ]
}