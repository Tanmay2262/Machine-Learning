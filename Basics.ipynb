{
  "nbformat": 4,
  "nbformat_minor": 0,
  "metadata": {
    "colab": {
      "name": "Basics.ipynb",
      "provenance": [],
      "collapsed_sections": []
    },
    "kernelspec": {
      "name": "python3",
      "display_name": "Python 3"
    }
  },
  "cells": [
    {
      "cell_type": "code",
      "metadata": {
        "id": "S0bwFA4dOeoc"
      },
      "source": [
        "import seaborn as sns\n",
        "import numpy as np\n",
        "import pandas as pd\n",
        "import matplotlib.pyplot as plt\n",
        "%matplotlib inline "
      ],
      "execution_count": 11,
      "outputs": []
    },
    {
      "cell_type": "markdown",
      "metadata": {
        "id": "51U49K68qw1-"
      },
      "source": [
        "**MOUNTING THE GOOGLE DRIVE TO READ THE FILES**"
      ]
    },
    {
      "cell_type": "code",
      "metadata": {
        "colab": {
          "base_uri": "https://localhost:8080/"
        },
        "id": "tghpmsbUQExe",
        "outputId": "af6c7f26-25c8-4eec-a69c-f1a21b712f48"
      },
      "source": [
        "from google.colab import drive\n",
        "drive.mount('/content/gdrive')"
      ],
      "execution_count": 12,
      "outputs": [
        {
          "output_type": "stream",
          "text": [
            "Drive already mounted at /content/gdrive; to attempt to forcibly remount, call drive.mount(\"/content/gdrive\", force_remount=True).\n"
          ],
          "name": "stdout"
        }
      ]
    },
    {
      "cell_type": "markdown",
      "metadata": {
        "id": "4LVByOG0q7k8"
      },
      "source": [
        "**Q1. Read the titanic_dataset.csv file using Pandas lib and display the first 5 and last 5 data records.**"
      ]
    },
    {
      "cell_type": "markdown",
      "metadata": {
        "id": "D63WT9nMBoJ_"
      },
      "source": [
        "**Inorder to read a .csv file we use the function from Pandas library pandas.read_csv() you need to provide the full path of the file as argument.**"
      ]
    },
    {
      "cell_type": "code",
      "metadata": {
        "id": "IDUgtYJQQZjD"
      },
      "source": [
        "titanic_train = pd.read_csv('/content/gdrive/MyDrive/ML Tasks/ADG-ML/titanic_dataset.csv')"
      ],
      "execution_count": 13,
      "outputs": []
    },
    {
      "cell_type": "markdown",
      "metadata": {
        "id": "EbU0-yKdDCRL"
      },
      "source": [
        "**Inorder to read the first n data records we can use dataframe.head(n) which will display the first n data records.**"
      ]
    },
    {
      "cell_type": "code",
      "metadata": {
        "colab": {
          "base_uri": "https://localhost:8080/",
          "height": 203
        },
        "id": "RZV_NKJMRDWz",
        "outputId": "a84eccc9-9951-4659-80fe-85cccb659268"
      },
      "source": [
        "titanic_train.head(5)"
      ],
      "execution_count": 14,
      "outputs": [
        {
          "output_type": "execute_result",
          "data": {
            "text/html": [
              "<div>\n",
              "<style scoped>\n",
              "    .dataframe tbody tr th:only-of-type {\n",
              "        vertical-align: middle;\n",
              "    }\n",
              "\n",
              "    .dataframe tbody tr th {\n",
              "        vertical-align: top;\n",
              "    }\n",
              "\n",
              "    .dataframe thead th {\n",
              "        text-align: right;\n",
              "    }\n",
              "</style>\n",
              "<table border=\"1\" class=\"dataframe\">\n",
              "  <thead>\n",
              "    <tr style=\"text-align: right;\">\n",
              "      <th></th>\n",
              "      <th>PassengerId</th>\n",
              "      <th>Survived</th>\n",
              "      <th>Pclass</th>\n",
              "      <th>Name</th>\n",
              "      <th>Sex</th>\n",
              "      <th>Age</th>\n",
              "      <th>SibSp</th>\n",
              "      <th>Parch</th>\n",
              "      <th>Ticket</th>\n",
              "      <th>Fare</th>\n",
              "      <th>Cabin</th>\n",
              "      <th>Embarked</th>\n",
              "    </tr>\n",
              "  </thead>\n",
              "  <tbody>\n",
              "    <tr>\n",
              "      <th>0</th>\n",
              "      <td>1</td>\n",
              "      <td>0</td>\n",
              "      <td>3</td>\n",
              "      <td>Braund, Mr. Owen Harris</td>\n",
              "      <td>male</td>\n",
              "      <td>22.0</td>\n",
              "      <td>1</td>\n",
              "      <td>0</td>\n",
              "      <td>A/5 21171</td>\n",
              "      <td>7.2500</td>\n",
              "      <td>NaN</td>\n",
              "      <td>S</td>\n",
              "    </tr>\n",
              "    <tr>\n",
              "      <th>1</th>\n",
              "      <td>2</td>\n",
              "      <td>1</td>\n",
              "      <td>1</td>\n",
              "      <td>Cumings, Mrs. John Bradley (Florence Briggs Th...</td>\n",
              "      <td>female</td>\n",
              "      <td>38.0</td>\n",
              "      <td>1</td>\n",
              "      <td>0</td>\n",
              "      <td>PC 17599</td>\n",
              "      <td>71.2833</td>\n",
              "      <td>C85</td>\n",
              "      <td>C</td>\n",
              "    </tr>\n",
              "    <tr>\n",
              "      <th>2</th>\n",
              "      <td>3</td>\n",
              "      <td>1</td>\n",
              "      <td>3</td>\n",
              "      <td>Heikkinen, Miss. Laina</td>\n",
              "      <td>female</td>\n",
              "      <td>26.0</td>\n",
              "      <td>0</td>\n",
              "      <td>0</td>\n",
              "      <td>STON/O2. 3101282</td>\n",
              "      <td>7.9250</td>\n",
              "      <td>NaN</td>\n",
              "      <td>S</td>\n",
              "    </tr>\n",
              "    <tr>\n",
              "      <th>3</th>\n",
              "      <td>4</td>\n",
              "      <td>1</td>\n",
              "      <td>1</td>\n",
              "      <td>Futrelle, Mrs. Jacques Heath (Lily May Peel)</td>\n",
              "      <td>female</td>\n",
              "      <td>35.0</td>\n",
              "      <td>1</td>\n",
              "      <td>0</td>\n",
              "      <td>113803</td>\n",
              "      <td>53.1000</td>\n",
              "      <td>C123</td>\n",
              "      <td>S</td>\n",
              "    </tr>\n",
              "    <tr>\n",
              "      <th>4</th>\n",
              "      <td>5</td>\n",
              "      <td>0</td>\n",
              "      <td>3</td>\n",
              "      <td>Allen, Mr. William Henry</td>\n",
              "      <td>male</td>\n",
              "      <td>35.0</td>\n",
              "      <td>0</td>\n",
              "      <td>0</td>\n",
              "      <td>373450</td>\n",
              "      <td>8.0500</td>\n",
              "      <td>NaN</td>\n",
              "      <td>S</td>\n",
              "    </tr>\n",
              "  </tbody>\n",
              "</table>\n",
              "</div>"
            ],
            "text/plain": [
              "   PassengerId  Survived  Pclass  ...     Fare Cabin  Embarked\n",
              "0            1         0       3  ...   7.2500   NaN         S\n",
              "1            2         1       1  ...  71.2833   C85         C\n",
              "2            3         1       3  ...   7.9250   NaN         S\n",
              "3            4         1       1  ...  53.1000  C123         S\n",
              "4            5         0       3  ...   8.0500   NaN         S\n",
              "\n",
              "[5 rows x 12 columns]"
            ]
          },
          "metadata": {
            "tags": []
          },
          "execution_count": 14
        }
      ]
    },
    {
      "cell_type": "markdown",
      "metadata": {
        "id": "M08A7Z-rDqzh"
      },
      "source": [
        "**Inorder to read the last n data records we can use dataframe.tail(n) which will display the last n data records.**"
      ]
    },
    {
      "cell_type": "code",
      "metadata": {
        "colab": {
          "base_uri": "https://localhost:8080/",
          "height": 203
        },
        "id": "bLAJ_JUtD7XB",
        "outputId": "66ab6fe7-6ffc-4a27-cdec-a909b839d7ee"
      },
      "source": [
        "titanic_train.tail(5)"
      ],
      "execution_count": 15,
      "outputs": [
        {
          "output_type": "execute_result",
          "data": {
            "text/html": [
              "<div>\n",
              "<style scoped>\n",
              "    .dataframe tbody tr th:only-of-type {\n",
              "        vertical-align: middle;\n",
              "    }\n",
              "\n",
              "    .dataframe tbody tr th {\n",
              "        vertical-align: top;\n",
              "    }\n",
              "\n",
              "    .dataframe thead th {\n",
              "        text-align: right;\n",
              "    }\n",
              "</style>\n",
              "<table border=\"1\" class=\"dataframe\">\n",
              "  <thead>\n",
              "    <tr style=\"text-align: right;\">\n",
              "      <th></th>\n",
              "      <th>PassengerId</th>\n",
              "      <th>Survived</th>\n",
              "      <th>Pclass</th>\n",
              "      <th>Name</th>\n",
              "      <th>Sex</th>\n",
              "      <th>Age</th>\n",
              "      <th>SibSp</th>\n",
              "      <th>Parch</th>\n",
              "      <th>Ticket</th>\n",
              "      <th>Fare</th>\n",
              "      <th>Cabin</th>\n",
              "      <th>Embarked</th>\n",
              "    </tr>\n",
              "  </thead>\n",
              "  <tbody>\n",
              "    <tr>\n",
              "      <th>886</th>\n",
              "      <td>887</td>\n",
              "      <td>0</td>\n",
              "      <td>2</td>\n",
              "      <td>Montvila, Rev. Juozas</td>\n",
              "      <td>male</td>\n",
              "      <td>27.0</td>\n",
              "      <td>0</td>\n",
              "      <td>0</td>\n",
              "      <td>211536</td>\n",
              "      <td>13.00</td>\n",
              "      <td>NaN</td>\n",
              "      <td>S</td>\n",
              "    </tr>\n",
              "    <tr>\n",
              "      <th>887</th>\n",
              "      <td>888</td>\n",
              "      <td>1</td>\n",
              "      <td>1</td>\n",
              "      <td>Graham, Miss. Margaret Edith</td>\n",
              "      <td>female</td>\n",
              "      <td>19.0</td>\n",
              "      <td>0</td>\n",
              "      <td>0</td>\n",
              "      <td>112053</td>\n",
              "      <td>30.00</td>\n",
              "      <td>B42</td>\n",
              "      <td>S</td>\n",
              "    </tr>\n",
              "    <tr>\n",
              "      <th>888</th>\n",
              "      <td>889</td>\n",
              "      <td>0</td>\n",
              "      <td>3</td>\n",
              "      <td>Johnston, Miss. Catherine Helen \"Carrie\"</td>\n",
              "      <td>female</td>\n",
              "      <td>NaN</td>\n",
              "      <td>1</td>\n",
              "      <td>2</td>\n",
              "      <td>W./C. 6607</td>\n",
              "      <td>23.45</td>\n",
              "      <td>NaN</td>\n",
              "      <td>S</td>\n",
              "    </tr>\n",
              "    <tr>\n",
              "      <th>889</th>\n",
              "      <td>890</td>\n",
              "      <td>1</td>\n",
              "      <td>1</td>\n",
              "      <td>Behr, Mr. Karl Howell</td>\n",
              "      <td>male</td>\n",
              "      <td>26.0</td>\n",
              "      <td>0</td>\n",
              "      <td>0</td>\n",
              "      <td>111369</td>\n",
              "      <td>30.00</td>\n",
              "      <td>C148</td>\n",
              "      <td>C</td>\n",
              "    </tr>\n",
              "    <tr>\n",
              "      <th>890</th>\n",
              "      <td>891</td>\n",
              "      <td>0</td>\n",
              "      <td>3</td>\n",
              "      <td>Dooley, Mr. Patrick</td>\n",
              "      <td>male</td>\n",
              "      <td>32.0</td>\n",
              "      <td>0</td>\n",
              "      <td>0</td>\n",
              "      <td>370376</td>\n",
              "      <td>7.75</td>\n",
              "      <td>NaN</td>\n",
              "      <td>Q</td>\n",
              "    </tr>\n",
              "  </tbody>\n",
              "</table>\n",
              "</div>"
            ],
            "text/plain": [
              "     PassengerId  Survived  Pclass  ...   Fare Cabin  Embarked\n",
              "886          887         0       2  ...  13.00   NaN         S\n",
              "887          888         1       1  ...  30.00   B42         S\n",
              "888          889         0       3  ...  23.45   NaN         S\n",
              "889          890         1       1  ...  30.00  C148         C\n",
              "890          891         0       3  ...   7.75   NaN         Q\n",
              "\n",
              "[5 rows x 12 columns]"
            ]
          },
          "metadata": {
            "tags": []
          },
          "execution_count": 15
        }
      ]
    },
    {
      "cell_type": "markdown",
      "metadata": {
        "id": "wwRWDrJtDpEt"
      },
      "source": [
        "**Q2. Get the info of each column like the data type, non-null value count and change the index from default to any column of your choice.**"
      ]
    },
    {
      "cell_type": "markdown",
      "metadata": {
        "id": "EYk4wbg0E1jf"
      },
      "source": [
        "**You can use Dataframe.info() inorder to get the details of the columns and number of non-null values and data types.bold text**"
      ]
    },
    {
      "cell_type": "code",
      "metadata": {
        "colab": {
          "base_uri": "https://localhost:8080/"
        },
        "id": "I0aNDx9nRLG6",
        "outputId": "717dbb52-4140-462b-c766-180d8aa357ed"
      },
      "source": [
        "titanic_train.info()"
      ],
      "execution_count": 16,
      "outputs": [
        {
          "output_type": "stream",
          "text": [
            "<class 'pandas.core.frame.DataFrame'>\n",
            "RangeIndex: 891 entries, 0 to 890\n",
            "Data columns (total 12 columns):\n",
            " #   Column       Non-Null Count  Dtype  \n",
            "---  ------       --------------  -----  \n",
            " 0   PassengerId  891 non-null    int64  \n",
            " 1   Survived     891 non-null    int64  \n",
            " 2   Pclass       891 non-null    int64  \n",
            " 3   Name         891 non-null    object \n",
            " 4   Sex          891 non-null    object \n",
            " 5   Age          714 non-null    float64\n",
            " 6   SibSp        891 non-null    int64  \n",
            " 7   Parch        891 non-null    int64  \n",
            " 8   Ticket       891 non-null    object \n",
            " 9   Fare         891 non-null    float64\n",
            " 10  Cabin        204 non-null    object \n",
            " 11  Embarked     889 non-null    object \n",
            "dtypes: float64(2), int64(5), object(5)\n",
            "memory usage: 83.7+ KB\n"
          ],
          "name": "stdout"
        }
      ]
    },
    {
      "cell_type": "markdown",
      "metadata": {
        "id": "zcDa0xZkFO_V"
      },
      "source": [
        "**You can use Dataframe.describe() inorder to get the statistical details of the numerical columns**"
      ]
    },
    {
      "cell_type": "code",
      "metadata": {
        "colab": {
          "base_uri": "https://localhost:8080/",
          "height": 295
        },
        "id": "oW6NPfyuRRBr",
        "outputId": "a02f2a78-b8cb-47ce-bce9-089ba6e1f0de"
      },
      "source": [
        "titanic_train.describe()"
      ],
      "execution_count": 17,
      "outputs": [
        {
          "output_type": "execute_result",
          "data": {
            "text/html": [
              "<div>\n",
              "<style scoped>\n",
              "    .dataframe tbody tr th:only-of-type {\n",
              "        vertical-align: middle;\n",
              "    }\n",
              "\n",
              "    .dataframe tbody tr th {\n",
              "        vertical-align: top;\n",
              "    }\n",
              "\n",
              "    .dataframe thead th {\n",
              "        text-align: right;\n",
              "    }\n",
              "</style>\n",
              "<table border=\"1\" class=\"dataframe\">\n",
              "  <thead>\n",
              "    <tr style=\"text-align: right;\">\n",
              "      <th></th>\n",
              "      <th>PassengerId</th>\n",
              "      <th>Survived</th>\n",
              "      <th>Pclass</th>\n",
              "      <th>Age</th>\n",
              "      <th>SibSp</th>\n",
              "      <th>Parch</th>\n",
              "      <th>Fare</th>\n",
              "    </tr>\n",
              "  </thead>\n",
              "  <tbody>\n",
              "    <tr>\n",
              "      <th>count</th>\n",
              "      <td>891.000000</td>\n",
              "      <td>891.000000</td>\n",
              "      <td>891.000000</td>\n",
              "      <td>714.000000</td>\n",
              "      <td>891.000000</td>\n",
              "      <td>891.000000</td>\n",
              "      <td>891.000000</td>\n",
              "    </tr>\n",
              "    <tr>\n",
              "      <th>mean</th>\n",
              "      <td>446.000000</td>\n",
              "      <td>0.383838</td>\n",
              "      <td>2.308642</td>\n",
              "      <td>29.699118</td>\n",
              "      <td>0.523008</td>\n",
              "      <td>0.381594</td>\n",
              "      <td>32.204208</td>\n",
              "    </tr>\n",
              "    <tr>\n",
              "      <th>std</th>\n",
              "      <td>257.353842</td>\n",
              "      <td>0.486592</td>\n",
              "      <td>0.836071</td>\n",
              "      <td>14.526497</td>\n",
              "      <td>1.102743</td>\n",
              "      <td>0.806057</td>\n",
              "      <td>49.693429</td>\n",
              "    </tr>\n",
              "    <tr>\n",
              "      <th>min</th>\n",
              "      <td>1.000000</td>\n",
              "      <td>0.000000</td>\n",
              "      <td>1.000000</td>\n",
              "      <td>0.420000</td>\n",
              "      <td>0.000000</td>\n",
              "      <td>0.000000</td>\n",
              "      <td>0.000000</td>\n",
              "    </tr>\n",
              "    <tr>\n",
              "      <th>25%</th>\n",
              "      <td>223.500000</td>\n",
              "      <td>0.000000</td>\n",
              "      <td>2.000000</td>\n",
              "      <td>20.125000</td>\n",
              "      <td>0.000000</td>\n",
              "      <td>0.000000</td>\n",
              "      <td>7.910400</td>\n",
              "    </tr>\n",
              "    <tr>\n",
              "      <th>50%</th>\n",
              "      <td>446.000000</td>\n",
              "      <td>0.000000</td>\n",
              "      <td>3.000000</td>\n",
              "      <td>28.000000</td>\n",
              "      <td>0.000000</td>\n",
              "      <td>0.000000</td>\n",
              "      <td>14.454200</td>\n",
              "    </tr>\n",
              "    <tr>\n",
              "      <th>75%</th>\n",
              "      <td>668.500000</td>\n",
              "      <td>1.000000</td>\n",
              "      <td>3.000000</td>\n",
              "      <td>38.000000</td>\n",
              "      <td>1.000000</td>\n",
              "      <td>0.000000</td>\n",
              "      <td>31.000000</td>\n",
              "    </tr>\n",
              "    <tr>\n",
              "      <th>max</th>\n",
              "      <td>891.000000</td>\n",
              "      <td>1.000000</td>\n",
              "      <td>3.000000</td>\n",
              "      <td>80.000000</td>\n",
              "      <td>8.000000</td>\n",
              "      <td>6.000000</td>\n",
              "      <td>512.329200</td>\n",
              "    </tr>\n",
              "  </tbody>\n",
              "</table>\n",
              "</div>"
            ],
            "text/plain": [
              "       PassengerId    Survived      Pclass  ...       SibSp       Parch        Fare\n",
              "count   891.000000  891.000000  891.000000  ...  891.000000  891.000000  891.000000\n",
              "mean    446.000000    0.383838    2.308642  ...    0.523008    0.381594   32.204208\n",
              "std     257.353842    0.486592    0.836071  ...    1.102743    0.806057   49.693429\n",
              "min       1.000000    0.000000    1.000000  ...    0.000000    0.000000    0.000000\n",
              "25%     223.500000    0.000000    2.000000  ...    0.000000    0.000000    7.910400\n",
              "50%     446.000000    0.000000    3.000000  ...    0.000000    0.000000   14.454200\n",
              "75%     668.500000    1.000000    3.000000  ...    1.000000    0.000000   31.000000\n",
              "max     891.000000    1.000000    3.000000  ...    8.000000    6.000000  512.329200\n",
              "\n",
              "[8 rows x 7 columns]"
            ]
          },
          "metadata": {
            "tags": []
          },
          "execution_count": 17
        }
      ]
    },
    {
      "cell_type": "markdown",
      "metadata": {
        "id": "J89kW_a-W42g"
      },
      "source": [
        "**Q3. Calculate the total null values for each column using isnull().**"
      ]
    },
    {
      "cell_type": "markdown",
      "metadata": {
        "id": "j_9-g0ifXLTh"
      },
      "source": [
        "**You can use dataframe.isnull() to get False wherever the value is not null and True wherever the value is null. Finally you can use .sum() to calculate the total null values for each column.**"
      ]
    },
    {
      "cell_type": "code",
      "metadata": {
        "colab": {
          "base_uri": "https://localhost:8080/"
        },
        "id": "-UkVT5oJRZST",
        "outputId": "e5d5c1d4-220c-41d6-b43e-9608d17628a2"
      },
      "source": [
        "titanic_train.isnull().sum()"
      ],
      "execution_count": 18,
      "outputs": [
        {
          "output_type": "execute_result",
          "data": {
            "text/plain": [
              "PassengerId      0\n",
              "Survived         0\n",
              "Pclass           0\n",
              "Name             0\n",
              "Sex              0\n",
              "Age            177\n",
              "SibSp            0\n",
              "Parch            0\n",
              "Ticket           0\n",
              "Fare             0\n",
              "Cabin          687\n",
              "Embarked         2\n",
              "dtype: int64"
            ]
          },
          "metadata": {
            "tags": []
          },
          "execution_count": 18
        }
      ]
    },
    {
      "cell_type": "markdown",
      "metadata": {
        "id": "PIt_Im2CrKMf"
      },
      "source": [
        "**Q4.Find the entry with the minimum passenger age.**"
      ]
    },
    {
      "cell_type": "markdown",
      "metadata": {
        "id": "Dhkp1SOddJAx"
      },
      "source": [
        "**DataFrame.loc, you can give a boolean condition to access rows of record, there are multiple ways to solve the above question**"
      ]
    },
    {
      "cell_type": "code",
      "metadata": {
        "id": "jpLoiKCea5oD"
      },
      "source": [
        "min_age_record = titanic_train.loc[titanic_train['Age']==titanic_train['Age'].min()]"
      ],
      "execution_count": 19,
      "outputs": []
    },
    {
      "cell_type": "code",
      "metadata": {
        "colab": {
          "base_uri": "https://localhost:8080/",
          "height": 80
        },
        "id": "Z2QaCqAZa11R",
        "outputId": "79a98444-ab4b-4d15-a9db-0f7925c46751"
      },
      "source": [
        "min_age_record"
      ],
      "execution_count": 20,
      "outputs": [
        {
          "output_type": "execute_result",
          "data": {
            "text/html": [
              "<div>\n",
              "<style scoped>\n",
              "    .dataframe tbody tr th:only-of-type {\n",
              "        vertical-align: middle;\n",
              "    }\n",
              "\n",
              "    .dataframe tbody tr th {\n",
              "        vertical-align: top;\n",
              "    }\n",
              "\n",
              "    .dataframe thead th {\n",
              "        text-align: right;\n",
              "    }\n",
              "</style>\n",
              "<table border=\"1\" class=\"dataframe\">\n",
              "  <thead>\n",
              "    <tr style=\"text-align: right;\">\n",
              "      <th></th>\n",
              "      <th>PassengerId</th>\n",
              "      <th>Survived</th>\n",
              "      <th>Pclass</th>\n",
              "      <th>Name</th>\n",
              "      <th>Sex</th>\n",
              "      <th>Age</th>\n",
              "      <th>SibSp</th>\n",
              "      <th>Parch</th>\n",
              "      <th>Ticket</th>\n",
              "      <th>Fare</th>\n",
              "      <th>Cabin</th>\n",
              "      <th>Embarked</th>\n",
              "    </tr>\n",
              "  </thead>\n",
              "  <tbody>\n",
              "    <tr>\n",
              "      <th>803</th>\n",
              "      <td>804</td>\n",
              "      <td>1</td>\n",
              "      <td>3</td>\n",
              "      <td>Thomas, Master. Assad Alexander</td>\n",
              "      <td>male</td>\n",
              "      <td>0.42</td>\n",
              "      <td>0</td>\n",
              "      <td>1</td>\n",
              "      <td>2625</td>\n",
              "      <td>8.5167</td>\n",
              "      <td>NaN</td>\n",
              "      <td>C</td>\n",
              "    </tr>\n",
              "  </tbody>\n",
              "</table>\n",
              "</div>"
            ],
            "text/plain": [
              "     PassengerId  Survived  Pclass  ...    Fare Cabin  Embarked\n",
              "803          804         1       3  ...  8.5167   NaN         C\n",
              "\n",
              "[1 rows x 12 columns]"
            ]
          },
          "metadata": {
            "tags": []
          },
          "execution_count": 20
        }
      ]
    },
    {
      "cell_type": "markdown",
      "metadata": {
        "id": "4ye28ymkrx6H"
      },
      "source": [
        "**Q5 Find the number of distinct classes for all categorical column entries.**"
      ]
    },
    {
      "cell_type": "code",
      "metadata": {
        "colab": {
          "base_uri": "https://localhost:8080/"
        },
        "id": "FXQ32jdufPAh",
        "outputId": "e3a345e4-c1d0-4b60-c050-33ce2bca34bc"
      },
      "source": [
        "print('Column Survived has {} classes'.format(titanic_train['Survived'].nunique()))\n",
        "print('Column Pclass has {} classes'.format(titanic_train['Pclass'].nunique()))\n",
        "print('Column Sex has {} classes'.format(titanic_train['Sex'].nunique()))\n",
        "print('Column Embarked has {} classes'.format(titanic_train['Embarked'].nunique()))"
      ],
      "execution_count": 21,
      "outputs": [
        {
          "output_type": "stream",
          "text": [
            "Column Survived has 2 classes\n",
            "Column Pclass has 3 classes\n",
            "Column Sex has 2 classes\n",
            "Column Embarked has 3 classes\n"
          ],
          "name": "stdout"
        }
      ]
    },
    {
      "cell_type": "markdown",
      "metadata": {
        "id": "u2kzLvZeeV_T"
      },
      "source": [
        "**Q6 Demonstrate the use of numerical plot (dist- plot, joint plot) and categorical plots (barplot, countplot).**"
      ]
    },
    {
      "cell_type": "markdown",
      "metadata": {
        "id": "KU86z6yDjQB9"
      },
      "source": [
        " **Distplot - Seaborn Library provides you the idea where the fare density is most**"
      ]
    },
    {
      "cell_type": "code",
      "metadata": {
        "colab": {
          "base_uri": "https://localhost:8080/",
          "height": 405
        },
        "id": "P_lly196bZHD",
        "outputId": "4b2db6a1-c860-4430-d08b-4eac43080a3b"
      },
      "source": [
        "plt.figure(figsize=(10,5)) # Set the size of the plot\n",
        "sns.distplot(titanic_train['Fare'])"
      ],
      "execution_count": 22,
      "outputs": [
        {
          "output_type": "stream",
          "text": [
            "/usr/local/lib/python3.7/dist-packages/seaborn/distributions.py:2557: FutureWarning: `distplot` is a deprecated function and will be removed in a future version. Please adapt your code to use either `displot` (a figure-level function with similar flexibility) or `histplot` (an axes-level function for histograms).\n",
            "  warnings.warn(msg, FutureWarning)\n"
          ],
          "name": "stderr"
        },
        {
          "output_type": "execute_result",
          "data": {
            "text/plain": [
              "<matplotlib.axes._subplots.AxesSubplot at 0x7fa959b534d0>"
            ]
          },
          "metadata": {
            "tags": []
          },
          "execution_count": 22
        },
        {
          "output_type": "display_data",
          "data": {
            "image/png": "[encoded data removed]",
            "text/plain": [
              "<Figure size 720x360 with 1 Axes>"
            ]
          },
          "metadata": {
            "tags": [],
            "needs_background": "light"
          }
        }
      ]
    },
    {
      "cell_type": "markdown",
      "metadata": {
        "id": "0PQFiT03kozK"
      },
      "source": [
        "**sns.jointplot() you can draw a plot of two variables with bivariate and univariate graphs.**"
      ]
    },
    {
      "cell_type": "code",
      "metadata": {
        "colab": {
          "base_uri": "https://localhost:8080/",
          "height": 474
        },
        "id": "yc3y18v9b1Um",
        "outputId": "a76910f8-57be-47a7-f11b-e128658f059e"
      },
      "source": [
        "plt.figure(figsize=(10,5)) # Set the size of the plot\n",
        "sns.jointplot(x='Age',y='Fare',data=titanic_train)"
      ],
      "execution_count": 23,
      "outputs": [
        {
          "output_type": "execute_result",
          "data": {
            "text/plain": [
              "<seaborn.axisgrid.JointGrid at 0x7fa959b87890>"
            ]
          },
          "metadata": {
            "tags": []
          },
          "execution_count": 23
        },
        {
          "output_type": "display_data",
          "data": {
            "text/plain": [
              "<Figure size 720x360 with 0 Axes>"
            ]
          },
          "metadata": {
            "tags": []
          }
        },
        {
          "output_type": "display_data",
          "data": {
            "image/png": "[encoded data removed]",
            "text/plain": [
              "<Figure size 432x432 with 3 Axes>"
            ]
          },
          "metadata": {
            "tags": [],
            "needs_background": "light"
          }
        }
      ]
    },
    {
      "cell_type": "markdown",
      "metadata": {
        "id": "8gO4XNiRDsIT"
      },
      "source": [
        "**seaborn.barplot(*, x=, y=, hue=, data=,)**\n",
        "\n"
      ]
    },
    {
      "cell_type": "code",
      "metadata": {
        "colab": {
          "base_uri": "https://localhost:8080/",
          "height": 351
        },
        "id": "eEaWp5bvdYfQ",
        "outputId": "db4077fb-f338-470d-d35a-56a05ed204d3"
      },
      "source": [
        "plt.figure(figsize=(10,5)) # Set the size of the plot\n",
        "sns.barplot(x='Pclass',y='Fare',data=titanic_train,hue='Survived')"
      ],
      "execution_count": 24,
      "outputs": [
        {
          "output_type": "execute_result",
          "data": {
            "text/plain": [
              "<matplotlib.axes._subplots.AxesSubplot at 0x7fa957fa9650>"
            ]
          },
          "metadata": {
            "tags": []
          },
          "execution_count": 24
        },
        {
          "output_type": "display_data",
          "data": {
            "image/png": "[encoded data removed]",
            "text/plain": [
              "<Figure size 720x360 with 1 Axes>"
            ]
          },
          "metadata": {
            "tags": [],
            "needs_background": "light"
          }
        }
      ]
    },
    {
      "cell_type": "markdown",
      "metadata": {
        "id": "Y_lTneB8GXDV"
      },
      "source": [
        "**sns.countplot(x=,hue=,data=,palette=,....) gives count of each class in categorical data.**\n",
        "\n",
        "Palette = { 'Accent', 'Accent_r', 'Blues', 'Blues_r', 'BrBG', 'BrBG_r', 'BuGn', 'BuGn_r', 'BuPu', 'BuPu_r', 'CMRmap', 'CMRmap_r', 'Dark2', 'Dark2_r', 'GnBu', 'GnBu_r', 'Greens', 'Greens_r', 'Greys', 'Greys_r', 'OrRd', 'OrRd_r', 'Oranges', 'Oranges_r', 'PRGn', 'PRGn_r', 'Paired', 'Paired_r', 'Pastel1', 'Pastel1_r', 'Pastel2', 'Pastel2_r', 'PiYG', 'PiYG_r', 'PuBu', 'PuBuGn', 'PuBuGn_r', 'PuBu_r', 'PuOr', 'PuOr_r', 'PuRd', 'PuRd_r', 'Purples', 'Purples_r', 'RdBu', 'RdBu_r', 'RdGy', 'RdGy_r', 'RdPu', 'RdPu_r', 'RdYlBu', 'RdYlBu_r', 'RdYlGn', 'RdYlGn_r', 'Reds', 'Reds_r', 'Set1', 'Set1_r', 'Set2', 'Set2_r', 'Set3', 'Set3_r', 'Spectral', 'Spectral_r', 'Wistia', 'Wistia_r', 'YlGn', 'YlGnBu', 'YlGnBu_r', 'YlGn_r', 'YlOrBr', 'YlOrBr_r', 'YlOrRd', 'YlOrRd_r', 'afmhot', 'afmhot_r', 'autumn', 'autumn_r', 'binary', 'binary_r', 'bone', 'bone_r', 'brg', 'brg_r', 'bwr', 'bwr_r', 'cividis', 'cividis_r', 'cool', 'cool_r', 'coolwarm', 'coolwarm_r', 'copper', 'copper_r', 'crest', 'crest_r', 'cubehelix', 'cubehelix_r', 'flag', 'flag_r', 'flare', 'flare_r', 'gist_earth', 'gist_earth_r', 'gist_gray', 'gist_gray_r', 'gist_heat', 'gist_heat_r', 'gist_ncar', 'gist_ncar_r', 'gist_rainbow', 'gist_rainbow_r', 'gist_stern', 'gist_stern_r', 'gist_yarg', 'gist_yarg_r', 'gnuplot', 'gnuplot2', 'gnuplot2_r', 'gnuplot_r', 'gray', 'gray_r', 'hot', 'hot_r', 'hsv', 'hsv_r', 'icefire', 'icefire_r', 'inferno', 'inferno_r', 'jet', 'jet_r', 'magma'}\n"
      ]
    },
    {
      "cell_type": "code",
      "metadata": {
        "colab": {
          "base_uri": "https://localhost:8080/",
          "height": 351
        },
        "id": "RKU1AXD6HAUB",
        "outputId": "88f89e21-dec2-4700-e220-728c560eb617"
      },
      "source": [
        "plt.figure(figsize=(10,5)) # Set the size of the plot\n",
        "sns.countplot(x='Sex',hue='Survived',data=titanic_train,palette='RdYlGn_r')"
      ],
      "execution_count": 25,
      "outputs": [
        {
          "output_type": "execute_result",
          "data": {
            "text/plain": [
              "<matplotlib.axes._subplots.AxesSubplot at 0x7fa94cfbd750>"
            ]
          },
          "metadata": {
            "tags": []
          },
          "execution_count": 25
        },
        {
          "output_type": "display_data",
          "data": {
            "image/png": "[encoded data removed]",
            "text/plain": [
              "<Figure size 720x360 with 1 Axes>"
            ]
          },
          "metadata": {
            "tags": [],
            "needs_background": "light"
          }
        }
      ]
    },
    {
      "cell_type": "markdown",
      "metadata": {
        "id": "2Nurkd4jHvKD"
      },
      "source": [
        "**Q7.Generate a box plot of P-class vs Age with hue survival and describe the graph features.**"
      ]
    },
    {
      "cell_type": "markdown",
      "metadata": {
        "id": "rkGQ-flvIuzR"
      },
      "source": [
        "![Box-Plot-and-Whisker-Plot-1.png](data:image/png;base64,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)"
      ]
    },
    {
      "cell_type": "markdown",
      "metadata": {
        "id": "BxjS8p9AJEps"
      },
      "source": [
        "**sns.boxplot(x=,y=,hue=,data=,Palette=)**"
      ]
    },
    {
      "cell_type": "code",
      "metadata": {
        "colab": {
          "base_uri": "https://localhost:8080/",
          "height": 351
        },
        "id": "vaP-YfbWI2IO",
        "outputId": "3e311b4e-2788-4198-f566-a496eb946845"
      },
      "source": [
        "plt.figure(figsize=(10,5)) # Set the size of the plot\n",
        "sns.boxplot(x='Pclass',y='Age',hue='Survived',data=titanic_train,palette='CMRmap')"
      ],
      "execution_count": 26,
      "outputs": [
        {
          "output_type": "execute_result",
          "data": {
            "text/plain": [
              "<matplotlib.axes._subplots.AxesSubplot at 0x7fa94cf9cd10>"
            ]
          },
          "metadata": {
            "tags": []
          },
          "execution_count": 26
        },
        {
          "output_type": "display_data",
          "data": {
            "image/png": "[encoded data removed]",
            "text/plain": [
              "<Figure size 720x360 with 1 Axes>"
            ]
          },
          "metadata": {
            "tags": [],
            "needs_background": "light"
          }
        }
      ]
    },
    {
      "cell_type": "markdown",
      "metadata": {
        "id": "mrezehkFKAMu"
      },
      "source": [
        "**Q8.Replace the null-values for the age columns with the mean age of the P-class to which that passenger belongs.**"
      ]
    },
    {
      "cell_type": "markdown",
      "metadata": {
        "id": "_el0Uj0VMNFI"
      },
      "source": [
        "**There are multiple ways to solve the above question one of the method is given below** "
      ]
    },
    {
      "cell_type": "code",
      "metadata": {
        "id": "sp3sm63Kq2jN"
      },
      "source": [
        "def compute_age(data):\n",
        "  age = data[0]\n",
        "  pclass = data[1]\n",
        "  if pd.isnull(age):\n",
        "    if pclass==1:\n",
        "      return titanic_train['Age'].loc[titanic_train['Pclass']==pclass].mean()\n",
        "    elif pclass==2:\n",
        "      return titanic_train['Age'].loc[titanic_train['Pclass']==pclass].mean()\n",
        "    else:\n",
        "      return titanic_train['Age'].loc[titanic_train['Pclass']==pclass].mean()\n",
        "  else:\n",
        "    return age "
      ],
      "execution_count": 27,
      "outputs": []
    },
    {
      "cell_type": "code",
      "metadata": {
        "id": "9Pviat-3tCBM"
      },
      "source": [
        "titanic_train['Age'] = titanic_train[['Age','Pclass']].apply(compute_age,axis=1)"
      ],
      "execution_count": 28,
      "outputs": []
    },
    {
      "cell_type": "code",
      "metadata": {
        "colab": {
          "base_uri": "https://localhost:8080/"
        },
        "id": "DzBwG7O5M4Ja",
        "outputId": "26c4eaf3-2029-46cb-dc92-13d6917a6c86"
      },
      "source": [
        "titanic_train.isnull().sum()"
      ],
      "execution_count": 29,
      "outputs": [
        {
          "output_type": "execute_result",
          "data": {
            "text/plain": [
              "PassengerId      0\n",
              "Survived         0\n",
              "Pclass           0\n",
              "Name             0\n",
              "Sex              0\n",
              "Age              0\n",
              "SibSp            0\n",
              "Parch            0\n",
              "Ticket           0\n",
              "Fare             0\n",
              "Cabin          687\n",
              "Embarked         2\n",
              "dtype: int64"
            ]
          },
          "metadata": {
            "tags": []
          },
          "execution_count": 29
        }
      ]
    },
    {
      "cell_type": "markdown",
      "metadata": {
        "id": "vKcd-p_PNQ64"
      },
      "source": [
        "**Observe after implementing compute_age we have no null values for Age**"
      ]
    },
    {
      "cell_type": "markdown",
      "metadata": {
        "id": "mFCGE397NklU"
      },
      "source": [
        "**Q9.Figure out the top 10 passengers with maximum fare and display from where did they embark and whether they survived along with name and fare.**"
      ]
    },
    {
      "cell_type": "code",
      "metadata": {
        "colab": {
          "base_uri": "https://localhost:8080/",
          "height": 357
        },
        "id": "knlfKIrWNraL",
        "outputId": "3ef6e080-a080-453f-ddc1-826d6007b226"
      },
      "source": [
        "titanic_train.sort_values('Fare',ascending=False)[['Name','Fare','Embarked','Survived']].head(10)"
      ],
      "execution_count": 30,
      "outputs": [
        {
          "output_type": "execute_result",
          "data": {
            "text/html": [
              "<div>\n",
              "<style scoped>\n",
              "    .dataframe tbody tr th:only-of-type {\n",
              "        vertical-align: middle;\n",
              "    }\n",
              "\n",
              "    .dataframe tbody tr th {\n",
              "        vertical-align: top;\n",
              "    }\n",
              "\n",
              "    .dataframe thead th {\n",
              "        text-align: right;\n",
              "    }\n",
              "</style>\n",
              "<table border=\"1\" class=\"dataframe\">\n",
              "  <thead>\n",
              "    <tr style=\"text-align: right;\">\n",
              "      <th></th>\n",
              "      <th>Name</th>\n",
              "      <th>Fare</th>\n",
              "      <th>Embarked</th>\n",
              "      <th>Survived</th>\n",
              "    </tr>\n",
              "  </thead>\n",
              "  <tbody>\n",
              "    <tr>\n",
              "      <th>258</th>\n",
              "      <td>Ward, Miss. Anna</td>\n",
              "      <td>512.3292</td>\n",
              "      <td>C</td>\n",
              "      <td>1</td>\n",
              "    </tr>\n",
              "    <tr>\n",
              "      <th>737</th>\n",
              "      <td>Lesurer, Mr. Gustave J</td>\n",
              "      <td>512.3292</td>\n",
              "      <td>C</td>\n",
              "      <td>1</td>\n",
              "    </tr>\n",
              "    <tr>\n",
              "      <th>679</th>\n",
              "      <td>Cardeza, Mr. Thomas Drake Martinez</td>\n",
              "      <td>512.3292</td>\n",
              "      <td>C</td>\n",
              "      <td>1</td>\n",
              "    </tr>\n",
              "    <tr>\n",
              "      <th>88</th>\n",
              "      <td>Fortune, Miss. Mabel Helen</td>\n",
              "      <td>263.0000</td>\n",
              "      <td>S</td>\n",
              "      <td>1</td>\n",
              "    </tr>\n",
              "    <tr>\n",
              "      <th>27</th>\n",
              "      <td>Fortune, Mr. Charles Alexander</td>\n",
              "      <td>263.0000</td>\n",
              "      <td>S</td>\n",
              "      <td>0</td>\n",
              "    </tr>\n",
              "    <tr>\n",
              "      <th>341</th>\n",
              "      <td>Fortune, Miss. Alice Elizabeth</td>\n",
              "      <td>263.0000</td>\n",
              "      <td>S</td>\n",
              "      <td>1</td>\n",
              "    </tr>\n",
              "    <tr>\n",
              "      <th>438</th>\n",
              "      <td>Fortune, Mr. Mark</td>\n",
              "      <td>263.0000</td>\n",
              "      <td>S</td>\n",
              "      <td>0</td>\n",
              "    </tr>\n",
              "    <tr>\n",
              "      <th>311</th>\n",
              "      <td>Ryerson, Miss. Emily Borie</td>\n",
              "      <td>262.3750</td>\n",
              "      <td>C</td>\n",
              "      <td>1</td>\n",
              "    </tr>\n",
              "    <tr>\n",
              "      <th>742</th>\n",
              "      <td>Ryerson, Miss. Susan Parker \"Suzette\"</td>\n",
              "      <td>262.3750</td>\n",
              "      <td>C</td>\n",
              "      <td>1</td>\n",
              "    </tr>\n",
              "    <tr>\n",
              "      <th>118</th>\n",
              "      <td>Baxter, Mr. Quigg Edmond</td>\n",
              "      <td>247.5208</td>\n",
              "      <td>C</td>\n",
              "      <td>0</td>\n",
              "    </tr>\n",
              "  </tbody>\n",
              "</table>\n",
              "</div>"
            ],
            "text/plain": [
              "                                      Name      Fare Embarked  Survived\n",
              "258                       Ward, Miss. Anna  512.3292        C         1\n",
              "737                 Lesurer, Mr. Gustave J  512.3292        C         1\n",
              "679     Cardeza, Mr. Thomas Drake Martinez  512.3292        C         1\n",
              "88              Fortune, Miss. Mabel Helen  263.0000        S         1\n",
              "27          Fortune, Mr. Charles Alexander  263.0000        S         0\n",
              "341         Fortune, Miss. Alice Elizabeth  263.0000        S         1\n",
              "438                      Fortune, Mr. Mark  263.0000        S         0\n",
              "311             Ryerson, Miss. Emily Borie  262.3750        C         1\n",
              "742  Ryerson, Miss. Susan Parker \"Suzette\"  262.3750        C         1\n",
              "118               Baxter, Mr. Quigg Edmond  247.5208        C         0"
            ]
          },
          "metadata": {
            "tags": []
          },
          "execution_count": 30
        }
      ]
    },
    {
      "cell_type": "markdown",
      "metadata": {
        "id": "-Qh4kIxxPU16"
      },
      "source": [
        "**Q10.Generate dummy variables for column sex and embark and concatenate with original Dataframe.**"
      ]
    },
    {
      "cell_type": "code",
      "metadata": {
        "id": "XIcDUGgYc_cw"
      },
      "source": [
        "sex = pd.get_dummies(titanic_train['Sex'],drop_first=True)\n",
        "embark = pd.get_dummies(titanic_train['Embarked'],drop_first=True)\n",
        "titanic_train = pd.concat([titanic_train,sex,embark])\n",
        "titanic_train.drop(['Sex','Embarked'],inplace=True,axis=1)"
      ],
      "execution_count": 31,
      "outputs": []
    },
    {
      "cell_type": "code",
      "metadata": {
        "colab": {
          "base_uri": "https://localhost:8080/",
          "height": 357
        },
        "id": "pdCaA4iwP2xi",
        "outputId": "8ffe26e9-fb5d-4b7c-f526-a79f7b552b5b"
      },
      "source": [
        "titanic_train.head(10)"
      ],
      "execution_count": 32,
      "outputs": [
        {
          "output_type": "execute_result",
          "data": {
            "text/html": [
              "<div>\n",
              "<style scoped>\n",
              "    .dataframe tbody tr th:only-of-type {\n",
              "        vertical-align: middle;\n",
              "    }\n",
              "\n",
              "    .dataframe tbody tr th {\n",
              "        vertical-align: top;\n",
              "    }\n",
              "\n",
              "    .dataframe thead th {\n",
              "        text-align: right;\n",
              "    }\n",
              "</style>\n",
              "<table border=\"1\" class=\"dataframe\">\n",
              "  <thead>\n",
              "    <tr style=\"text-align: right;\">\n",
              "      <th></th>\n",
              "      <th>PassengerId</th>\n",
              "      <th>Survived</th>\n",
              "      <th>Pclass</th>\n",
              "      <th>Name</th>\n",
              "      <th>Age</th>\n",
              "      <th>SibSp</th>\n",
              "      <th>Parch</th>\n",
              "      <th>Ticket</th>\n",
              "      <th>Fare</th>\n",
              "      <th>Cabin</th>\n",
              "      <th>male</th>\n",
              "      <th>Q</th>\n",
              "      <th>S</th>\n",
              "    </tr>\n",
              "  </thead>\n",
              "  <tbody>\n",
              "    <tr>\n",
              "      <th>0</th>\n",
              "      <td>1.0</td>\n",
              "      <td>0.0</td>\n",
              "      <td>3.0</td>\n",
              "      <td>Braund, Mr. Owen Harris</td>\n",
              "      <td>22.00000</td>\n",
              "      <td>1.0</td>\n",
              "      <td>0.0</td>\n",
              "      <td>A/5 21171</td>\n",
              "      <td>7.2500</td>\n",
              "      <td>NaN</td>\n",
              "      <td>NaN</td>\n",
              "      <td>NaN</td>\n",
              "      <td>NaN</td>\n",
              "    </tr>\n",
              "    <tr>\n",
              "      <th>1</th>\n",
              "      <td>2.0</td>\n",
              "      <td>1.0</td>\n",
              "      <td>1.0</td>\n",
              "      <td>Cumings, Mrs. John Bradley (Florence Briggs Th...</td>\n",
              "      <td>38.00000</td>\n",
              "      <td>1.0</td>\n",
              "      <td>0.0</td>\n",
              "      <td>PC 17599</td>\n",
              "      <td>71.2833</td>\n",
              "      <td>C85</td>\n",
              "      <td>NaN</td>\n",
              "      <td>NaN</td>\n",
              "      <td>NaN</td>\n",
              "    </tr>\n",
              "    <tr>\n",
              "      <th>2</th>\n",
              "      <td>3.0</td>\n",
              "      <td>1.0</td>\n",
              "      <td>3.0</td>\n",
              "      <td>Heikkinen, Miss. Laina</td>\n",
              "      <td>26.00000</td>\n",
              "      <td>0.0</td>\n",
              "      <td>0.0</td>\n",
              "      <td>STON/O2. 3101282</td>\n",
              "      <td>7.9250</td>\n",
              "      <td>NaN</td>\n",
              "      <td>NaN</td>\n",
              "      <td>NaN</td>\n",
              "      <td>NaN</td>\n",
              "    </tr>\n",
              "    <tr>\n",
              "      <th>3</th>\n",
              "      <td>4.0</td>\n",
              "      <td>1.0</td>\n",
              "      <td>1.0</td>\n",
              "      <td>Futrelle, Mrs. Jacques Heath (Lily May Peel)</td>\n",
              "      <td>35.00000</td>\n",
              "      <td>1.0</td>\n",
              "      <td>0.0</td>\n",
              "      <td>113803</td>\n",
              "      <td>53.1000</td>\n",
              "      <td>C123</td>\n",
              "      <td>NaN</td>\n",
              "      <td>NaN</td>\n",
              "      <td>NaN</td>\n",
              "    </tr>\n",
              "    <tr>\n",
              "      <th>4</th>\n",
              "      <td>5.0</td>\n",
              "      <td>0.0</td>\n",
              "      <td>3.0</td>\n",
              "      <td>Allen, Mr. William Henry</td>\n",
              "      <td>35.00000</td>\n",
              "      <td>0.0</td>\n",
              "      <td>0.0</td>\n",
              "      <td>373450</td>\n",
              "      <td>8.0500</td>\n",
              "      <td>NaN</td>\n",
              "      <td>NaN</td>\n",
              "      <td>NaN</td>\n",
              "      <td>NaN</td>\n",
              "    </tr>\n",
              "    <tr>\n",
              "      <th>5</th>\n",
              "      <td>6.0</td>\n",
              "      <td>0.0</td>\n",
              "      <td>3.0</td>\n",
              "      <td>Moran, Mr. James</td>\n",
              "      <td>25.14062</td>\n",
              "      <td>0.0</td>\n",
              "      <td>0.0</td>\n",
              "      <td>330877</td>\n",
              "      <td>8.4583</td>\n",
              "      <td>NaN</td>\n",
              "      <td>NaN</td>\n",
              "      <td>NaN</td>\n",
              "      <td>NaN</td>\n",
              "    </tr>\n",
              "    <tr>\n",
              "      <th>6</th>\n",
              "      <td>7.0</td>\n",
              "      <td>0.0</td>\n",
              "      <td>1.0</td>\n",
              "      <td>McCarthy, Mr. Timothy J</td>\n",
              "      <td>54.00000</td>\n",
              "      <td>0.0</td>\n",
              "      <td>0.0</td>\n",
              "      <td>17463</td>\n",
              "      <td>51.8625</td>\n",
              "      <td>E46</td>\n",
              "      <td>NaN</td>\n",
              "      <td>NaN</td>\n",
              "      <td>NaN</td>\n",
              "    </tr>\n",
              "    <tr>\n",
              "      <th>7</th>\n",
              "      <td>8.0</td>\n",
              "      <td>0.0</td>\n",
              "      <td>3.0</td>\n",
              "      <td>Palsson, Master. Gosta Leonard</td>\n",
              "      <td>2.00000</td>\n",
              "      <td>3.0</td>\n",
              "      <td>1.0</td>\n",
              "      <td>349909</td>\n",
              "      <td>21.0750</td>\n",
              "      <td>NaN</td>\n",
              "      <td>NaN</td>\n",
              "      <td>NaN</td>\n",
              "      <td>NaN</td>\n",
              "    </tr>\n",
              "    <tr>\n",
              "      <th>8</th>\n",
              "      <td>9.0</td>\n",
              "      <td>1.0</td>\n",
              "      <td>3.0</td>\n",
              "      <td>Johnson, Mrs. Oscar W (Elisabeth Vilhelmina Berg)</td>\n",
              "      <td>27.00000</td>\n",
              "      <td>0.0</td>\n",
              "      <td>2.0</td>\n",
              "      <td>347742</td>\n",
              "      <td>11.1333</td>\n",
              "      <td>NaN</td>\n",
              "      <td>NaN</td>\n",
              "      <td>NaN</td>\n",
              "      <td>NaN</td>\n",
              "    </tr>\n",
              "    <tr>\n",
              "      <th>9</th>\n",
              "      <td>10.0</td>\n",
              "      <td>1.0</td>\n",
              "      <td>2.0</td>\n",
              "      <td>Nasser, Mrs. Nicholas (Adele Achem)</td>\n",
              "      <td>14.00000</td>\n",
              "      <td>1.0</td>\n",
              "      <td>0.0</td>\n",
              "      <td>237736</td>\n",
              "      <td>30.0708</td>\n",
              "      <td>NaN</td>\n",
              "      <td>NaN</td>\n",
              "      <td>NaN</td>\n",
              "      <td>NaN</td>\n",
              "    </tr>\n",
              "  </tbody>\n",
              "</table>\n",
              "</div>"
            ],
            "text/plain": [
              "   PassengerId  Survived  Pclass  ... male   Q   S\n",
              "0          1.0       0.0     3.0  ...  NaN NaN NaN\n",
              "1          2.0       1.0     1.0  ...  NaN NaN NaN\n",
              "2          3.0       1.0     3.0  ...  NaN NaN NaN\n",
              "3          4.0       1.0     1.0  ...  NaN NaN NaN\n",
              "4          5.0       0.0     3.0  ...  NaN NaN NaN\n",
              "5          6.0       0.0     3.0  ...  NaN NaN NaN\n",
              "6          7.0       0.0     1.0  ...  NaN NaN NaN\n",
              "7          8.0       0.0     3.0  ...  NaN NaN NaN\n",
              "8          9.0       1.0     3.0  ...  NaN NaN NaN\n",
              "9         10.0       1.0     2.0  ...  NaN NaN NaN\n",
              "\n",
              "[10 rows x 13 columns]"
            ]
          },
          "metadata": {
            "tags": []
          },
          "execution_count": 32
        }
      ]
    }
  ]
}